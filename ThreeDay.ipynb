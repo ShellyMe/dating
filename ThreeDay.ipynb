{
 "cells": [
  {
   "cell_type": "code",
   "execution_count": 1,
   "metadata": {},
   "outputs": [],
   "source": [
    "import pandas as pd\n",
    "import numpy as np\n",
    "import warnings\n",
    "warnings.filterwarnings('ignore')"
   ]
  },
  {
   "cell_type": "code",
   "execution_count": 2,
   "metadata": {},
   "outputs": [
    {
     "data": {
      "text/plain": [
       "(4455, 81)"
      ]
     },
     "execution_count": 2,
     "metadata": {},
     "output_type": "execute_result"
    }
   ],
   "source": [
    "data2 = pd.read_csv('./data/data_2.csv',encoding='gbk')\n",
    "data2.shape"
   ]
  },
  {
   "cell_type": "code",
   "execution_count": 3,
   "metadata": {},
   "outputs": [],
   "source": [
    "from sklearn.model_selection import train_test_split\n",
    "y = data2['status']\n",
    "X = data2.drop(['status'],axis = 1)\n",
    "X_train,X_test,Y_train,Y_test = train_test_split(X,y,test_size=0.3,random_state=2018)"
   ]
  },
  {
   "cell_type": "code",
   "execution_count": 4,
   "metadata": {},
   "outputs": [],
   "source": [
    "from sklearn.metrics import accuracy_score,roc_auc_score\n",
    "\n",
    "def model_metrics(clf,X_train,X_test,y_train,Y_test):\n",
    "    #预测\n",
    "    Y_train_pred = clf.predict(X_train)\n",
    "    Y_test_pred = clf.predict(X_test)\n",
    "    \n",
    "    Y_train_proba = clf.predict_proba(X_train)[:,1]#计算准确率，召回率\n",
    "    Y_test_proba = clf.predict_proba(X_test)[:,1]\n",
    "    \n",
    "    #准确率\n",
    "    print('[准确率]', end = ' ')\n",
    "    print('训练集','%.4f'%accuracy_score(Y_train,Y_train_pred), end = ' ')\n",
    "    print('测试集','%.4f'%accuracy_score(Y_test,Y_test_pred))\n",
    "\n",
    "    #auc取值\n",
    "    print('[auc值]', end = ' ')\n",
    "    print('训练集','%.4f'%roc_auc_score(Y_train,Y_train_proba), end = ' ')\n",
    "    print('测试集','%.4f'%roc_auc_score(Y_test,Y_test_proba))"
   ]
  },
  {
   "cell_type": "code",
   "execution_count": 5,
   "metadata": {},
   "outputs": [],
   "source": [
    "from sklearn.model_selection import GridSearchCV #调参数\n",
    "from sklearn.linear_model import LogisticRegression #逻辑回归\n",
    "from sklearn import svm   #svm\n",
    "from sklearn.tree import DecisionTreeClassifier #决策树\n",
    "from sklearn.ensemble import RandomForestClassifier #随机森林\n",
    "from xgboost.sklearn import XGBClassifier  #xgboost"
   ]
  },
  {
   "cell_type": "code",
   "execution_count": 6,
   "metadata": {},
   "outputs": [
    {
     "name": "stdout",
     "output_type": "stream",
     "text": [
      "[准确率] 训练集 0.7444 测试集 0.7569\n",
      "[auc值] 训练集 0.5938 测试集 0.5981\n"
     ]
    }
   ],
   "source": [
    "#逻辑回归\n",
    "LR = LogisticRegression()\n",
    "LR.fit(X_train, Y_train)\n",
    "model_metrics(LR, X_train, X_test, Y_train, Y_test)"
   ]
  },
  {
   "cell_type": "code",
   "execution_count": 9,
   "metadata": {},
   "outputs": [
    {
     "data": {
      "text/plain": [
       "0.6948391922213911"
      ]
     },
     "execution_count": 9,
     "metadata": {},
     "output_type": "execute_result"
    }
   ],
   "source": [
    "#决策树\n",
    "from sklearn.tree import DecisionTreeClassifier\n",
    "dtc = DecisionTreeClassifier().fit(X_train,Y_train)\n",
    "dtc.score(X_test, Y_test)"
   ]
  },
  {
   "cell_type": "code",
   "execution_count": 16,
   "metadata": {},
   "outputs": [
    {
     "data": {
      "text/plain": [
       "0.7711293941660434"
      ]
     },
     "execution_count": 16,
     "metadata": {},
     "output_type": "execute_result"
    }
   ],
   "source": [
    "#随机森林\n",
    "from sklearn.ensemble import RandomForestClassifier\n",
    "rfc = RandomForestClassifier(n_estimators=10)\n",
    "rfc.fit(X_train,Y_train)\n",
    "rfc.score(X_test,Y_test)"
   ]
  },
  {
   "cell_type": "code",
   "execution_count": 15,
   "metadata": {},
   "outputs": [
    {
     "data": {
      "text/plain": [
       "0.7576664173522812"
      ]
     },
     "execution_count": 15,
     "metadata": {},
     "output_type": "execute_result"
    }
   ],
   "source": [
    "#SVC\n",
    "from sklearn.svm import SVC\n",
    "clf = SVC(kernel='rbf',gamma='auto',cache_size=5000).fit(X_train,Y_train)\n",
    "clf.score(X_test,Y_test)"
   ]
  },
  {
   "cell_type": "code",
   "execution_count": 17,
   "metadata": {},
   "outputs": [
    {
     "data": {
      "text/plain": [
       "0.8010471204188482"
      ]
     },
     "execution_count": 17,
     "metadata": {},
     "output_type": "execute_result"
    }
   ],
   "source": [
    "#XGBoost\n",
    "from xgboost import XGBClassifier as XGBC\n",
    "clf = XGBC().fit(X_train,Y_train)\n",
    "clf.score(X_test,Y_test)"
   ]
  },
  {
   "cell_type": "code",
   "execution_count": 10,
   "metadata": {},
   "outputs": [
    {
     "name": "stdout",
     "output_type": "stream",
     "text": [
      "[准确率] 训练集 1.0000 测试集 0.7577\n",
      "[auc值] 训练集 0.0000 测试集 0.5000\n"
     ]
    }
   ],
   "source": [
    "#SVM\n",
    "svm_rbf = svm.SVC(kernel='rbf',probability=True)\n",
    "svm_rbf.fit(X_train, Y_train)\n",
    "model_metrics(svm_rbf, X_train, X_test, Y_train, Y_test)"
   ]
  },
  {
   "cell_type": "code",
   "execution_count": 11,
   "metadata": {},
   "outputs": [
    {
     "name": "stdout",
     "output_type": "stream",
     "text": [
      "[准确率] 训练集 0.7444 测试集 0.7577\n",
      "[auc值] 训练集 0.5000 测试集 0.5000\n"
     ]
    }
   ],
   "source": [
    "#sigmoid\n",
    "svm_sigmoid = svm.SVC(kernel='sigmoid',probability=True)\n",
    "svm_sigmoid.fit(X_train, Y_train)\n",
    "model_metrics(svm_sigmoid, X_train, X_test, Y_train, Y_test)"
   ]
  },
  {
   "cell_type": "code",
   "execution_count": 12,
   "metadata": {},
   "outputs": [
    {
     "name": "stdout",
     "output_type": "stream",
     "text": [
      "[准确率] 训练集 1.0000 测试集 0.7001\n",
      "[auc值] 训练集 1.0000 测试集 0.6142\n"
     ]
    }
   ],
   "source": [
    "#决策树\n",
    "DT = DecisionTreeClassifier(random_state = 2018)\n",
    "DT.fit(X_train, Y_train)\n",
    "model_metrics(DT, X_train, X_test, Y_train, Y_test)"
   ]
  },
  {
   "cell_type": "code",
   "execution_count": 14,
   "metadata": {},
   "outputs": [
    {
     "name": "stdout",
     "output_type": "stream",
     "text": [
      "[准确率] 训练集 0.8499 测试集 0.8010\n",
      "[auc值] 训练集 0.9136 测试集 0.8043\n"
     ]
    }
   ],
   "source": [
    "#XGboost\n",
    "xgb = XGBClassifier(random_state =2018)\n",
    "xgb.fit(X_train, Y_train)\n",
    "model_metrics(xgb, X_train, X_test, Y_train, Y_test)"
   ]
  },
  {
   "cell_type": "code",
   "execution_count": null,
   "metadata": {},
   "outputs": [],
   "source": []
  }
 ],
 "metadata": {
  "kernelspec": {
   "display_name": "Python 3",
   "language": "python",
   "name": "python3"
  },
  "language_info": {
   "codemirror_mode": {
    "name": "ipython",
    "version": 3
   },
   "file_extension": ".py",
   "mimetype": "text/x-python",
   "name": "python",
   "nbconvert_exporter": "python",
   "pygments_lexer": "ipython3",
   "version": "3.6.8"
  }
 },
 "nbformat": 4,
 "nbformat_minor": 2
}
